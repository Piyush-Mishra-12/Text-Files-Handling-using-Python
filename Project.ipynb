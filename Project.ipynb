{
 "cells": [
  {
   "cell_type": "markdown",
   "id": "23865b84",
   "metadata": {},
   "source": [
    "# Python for Data Science"
   ]
  },
  {
   "cell_type": "markdown",
   "id": "07ad56bc",
   "metadata": {},
   "source": [
    "## File Handling and String Manipulation (Handling text files using Python)\n",
    "#### A sample script of Game of Thrones was taken from the page and stored in the file conv.txt in the dataset provided. Make sure to complete all the tasks and follow the submission guidelines."
   ]
  },
  {
   "cell_type": "markdown",
   "id": "5f5a015a",
   "metadata": {},
   "source": [
    "### Task 1 \n",
    "#### Find out the number of unique dialogue speakers in the sample conversation?"
   ]
  },
  {
   "cell_type": "code",
   "execution_count": 1,
   "id": "89a54f61",
   "metadata": {},
   "outputs": [],
   "source": [
    "from pathlib import Path"
   ]
  },
  {
   "cell_type": "code",
   "execution_count": 2,
   "id": "13a307f2",
   "metadata": {
    "scrolled": true
   },
   "outputs": [
    {
     "name": "stdout",
     "output_type": "stream",
     "text": [
      "['WILL', '\\n', 'WAYMAR ROYCE', '\\n', 'WILL', '\\n', 'GARED', '\\n', 'ROYCE', '\\n', 'GARED', '\\n', 'ROYCE', '\\n', 'WILL', '\\n', 'ROYCE', '\\n', 'ROYCE', '\\n', 'WILL', '\\n', 'GARED', '\\n', 'ROYCE', '\\n', 'JON', '\\n', 'JON', '\\n', 'SEPTA MORDANE', '\\n', 'SANSA', '\\n', 'SEPTA MORDANE', '\\n', 'NED', '\\n', 'JON', '\\n', 'ROBB', '\\n', 'CASSEL', '\\n', 'NED', '\\n', 'CATELYN', '\\n', 'NED', '\\n', 'CASSEL', '\\n', 'NED', '\\n', 'CATELYN', '\\n', 'NED', '\\n', 'ROBB', '\\n', 'NED', '\\n', 'JON', '\\n', 'NED', '\\n', 'JON', '\\n', 'NED', '\\n', 'BRAN', '\\n', 'NED', '\\n', 'BRAN', '\\n', 'NED', '\\n', 'BRAN', '\\n', 'NED', '\\n', 'BRAN', '\\n', 'NED', '\\n', 'JON', '\\n', 'THEON', '\\n', 'NED', '\\n', 'THEON', '\\n', 'NED', '\\n', 'NED', '\\n', 'ROBB', '\\n', 'JON', '\\n', 'JON', '\\n', 'BRAN', '\\n', 'CASSEL', '\\n', 'NED', '\\n', 'THEON', '\\n', 'BRAN', '\\n', 'ROBB', '\\n', 'THEON', '\\n', 'BRAN', '\\n', 'NED', '\\n', 'JON', '\\n', 'NED', '\\n', 'BRAN', '\\n', 'JON', '\\n', 'ROBB', '\\n', 'CERSEI', '\\n', 'JAIME', '\\n', 'CERSEI', '\\n', 'JAIME', '\\n', 'CERSEI', '\\n', 'JAIME', '\\n', 'CATELYN', '\\n', 'NED', '\\n', 'CATELYN', '\\n', 'NED', '\\n', 'CATELYN', '\\n', 'NED', '\\n', 'ROBB', '\\n', 'THEON', '\\n', 'ROBB', '\\n', 'CATELYN', '\\n', 'BRAN', '\\n', 'CATELYN', '\\n', 'BRAN', '\\n', 'CATELYN', '\\n', 'NED', '\\n', 'ROBERT', '\\n', 'ROBERT', '\\n', 'CATELYN', '\\n', 'ROBERT', '\\n', 'NED', '\\n', 'ARYA', '\\n', 'SANSA', '\\n', 'ROBERT', '\\n', 'ARYA', '\\n', 'ROBERT', '\\n', 'ARYA', '\\n', 'SANSA', '\\n', 'NED', '\\n', 'CATELYN', '\\n', 'ROBERT', '\\n', 'CERSEI', '\\n', 'ROBERT', '\\n', 'ARYA', '\\n', 'CERSEI', '\\n', 'NED', '\\n', 'ROBERT', '\\n', 'NED', '\\n', 'ROBERT', '\\n', 'NED', '\\n']\n"
     ]
    }
   ],
   "source": [
    "p = Path.cwd() / 'Data/conv.txt'\n",
    "file = open(p, \"r\")\n",
    "text = file.readlines()\n",
    "\n",
    "characters = []\n",
    "\n",
    "for c in text:\n",
    "    for w in c.split(\":\"):\n",
    "        if w.endswith(\":\"):\n",
    "            break\n",
    "        break\n",
    "    characters.append(w)   \n",
    "print(characters)"
   ]
  },
  {
   "cell_type": "code",
   "execution_count": 3,
   "id": "b674d0c7",
   "metadata": {
    "scrolled": false
   },
   "outputs": [
    {
     "name": "stdout",
     "output_type": "stream",
     "text": [
      "The number of Unique Dialogue Speakers are - 17 \n",
      "\n",
      "{'THEON', 'ROBERT', 'WAYMAR ROYCE', 'ARYA', 'ROBB', 'CASSEL', 'BRAN', 'NED', 'JAIME', 'ROYCE', 'CATELYN', 'SANSA', 'JON', 'SEPTA MORDANE', 'CERSEI', 'WILL', 'GARED'}\n"
     ]
    }
   ],
   "source": [
    "unique_character = {x for x in characters}\n",
    "unique_character.discard('\\n')\n",
    "\n",
    "print('The number of Unique Dialogue Speakers are -', len(unique_character), \"\\n\")\n",
    "print(unique_character)"
   ]
  },
  {
   "cell_type": "markdown",
   "id": "f0ed8c7d",
   "metadata": {},
   "source": [
    "### Task 2 \n",
    "#### Create a new text file by the name of the dialogue speaker and store the unique words spoken by that character in the respective text file. Make sure there is only one word every line."
   ]
  },
  {
   "cell_type": "code",
   "execution_count": 4,
   "id": "b95c07ab",
   "metadata": {},
   "outputs": [
    {
     "name": "stdout",
     "output_type": "stream",
     "text": [
      "{'WILL': [[' Iâ€™ve never seen wildlings do a thing like this. Iâ€™ve never seen a thing like this, not ever in my life.\\n'], [' Close as any man would.\\n'], [' Whatever did it to them could do it to us. They even killed the children.\\n'], [' They were here.\\n']], '\\n': [[], [], [], [], [], [], [], [], [], [], [], [], [], [], [], [], [], [], [], [], [], [], [], [], [], [], [], [], [], [], [], [], [], [], [], [], [], [], [], [], [], [], [], [], [], [], [], [], [], [], [], [], [], [], [], [], [], [], [], [], [], [], [], [], [], [], [], [], [], [], [], [], [], [], [], [], [], [], [], [], [], [], [], [], [], [], [], [], [], [], [], [], [], [], [], [], [], [], [], [], [], [], [], [], [], [], [], [], [], [], []], 'WAYMAR ROYCE': [[' How close did you get?\\n']], 'GARED': [[' We should head back to the wall.\\n'], [' Our orders were to track the wildlings. We tracked them. They wonâ€™t trouble us no more.\\n'], [' See where they went.\\n']], 'ROYCE': [[' Do the dead frighten you?\\n'], [' You donâ€™t think heâ€™ll ask us how they died? Get back on your horse.\\n'], [' Itâ€™s a good thing weâ€™re not children. You want to run away south, run away. Of course, they will behead you as a deserter â€¦ If I donâ€™t catch you first. Get back on your horse. I wonâ€™t say it again.\\n'], [' Your dead men seem to have moved camp.\\n'], [' What is it?\\n']], 'JON': [[' Go on. Fatherâ€™s watching.\\n'], [' And your mother.\\n'], [' Donâ€™t think too much, Bran.\\n'], [' Father will know if you do.\\n'], [' You did well.\\n'], [' What is it?\\n'], [' Now there are five.\\n'], [' You want to hold it?\\n'], [' Lord Stark? There are five pups. One for each of the Stark children. The direwolf is the sigil of your House. They were meant to have them.\\n'], [' Iâ€™m not a Stark. Get on.\\n']], 'SEPTA MORDANE': [[' Fine work, as always. Well done.\\n'], [' I love the detail that youâ€™ve managed to get in this corners.\\n']], 'SANSA': [[' Thank you.\\n'], [' Will you shut up?\\n'], [' Would you please shut up.\\n']], 'NED': [[' And which one of you was a marksman at ten? Keep practicing, Bran. Go on.\\n'], [' Get the lads to saddle their horses.\\n'], [' He swore an oath, Cat.\\n'], [' Tell Bran heâ€™s coming, too.\\n'], [' He wonâ€™t be a boy forever. And winter is coming.\\n'], [' King of the Andals and the First Men â€¦\\n'], [' Lord of the Seven Kingdoms and protector of the realm, I, Eddard of the House Stark, Lord of Winterfell and Warden of the North, sentence you to die.\\n'], [' You understand why I did it?\\n'], [' But do you understand why I had to kill him?\\n'], [' The man who passes the sentence should swing the sword.\\n'], [' The White Walkers have been gone for thousands of years.\\n'], [' A madman sees what he sees.\\n'], [' There are no mountain lions in these woods.\\n'], [' Itâ€™s a direwolf.\\n'], [' Tough old beast.\\n'], [' Better a quick death. They wonâ€™t last without their mother.\\n'], [' Iâ€™m sorry, Bran.\\n'], [' You will train them yourselves. You will feed them yourselves. And if they die, you will bury them yourselves.\\n'], [' You have five northern children. Youâ€™re not an outsider.\\n'], [' Itâ€™s your gods with all the rules.\\n'], [' Tell me.\\n'], [' Your Grace.\\n'], [' Guarding the North for you, Your Grace. Winterfell is yours.\\n'], [' My queen.\\n'], [' Tell me about Jon Arryn.\\n'], [' We both did.\\n'], [' Aye.\\n']], 'ROBB': [[' Relax your bow arm.\\n'], [' Lad, go run back and get the rest.\\n'], [' There are no direwolves south of the Wall.\\n'], [' Put away your blade.\\n'], [' What is it?\\n'], [' I hear the prince is a right royal prick.\\n'], [' Go on, Tommy, shave him good. Heâ€™s never met a girl he likes better than his own hair.\\n']], 'CASSEL': [[' Lord Stark. My lady. A guardsman just rode in from the hills. Theyâ€™ve captured a deserter from the Nightâ€™s Watch.\\n'], [' The law is law, my lady.\\n'], [' They donâ€™t belong down here.\\n']], 'CATELYN': [[' Do you have to?\\n'], [' Ned. Ten is too young to see such things.\\n'], [' All these years and I still feel like an outsider when I come here.\\n'], [' I wonder if the old gods agree.\\n'], [' I am so sorry, my love.\\n'], [' Gods, but they grow fast.\\n'], [' How many times have I told you No climbing!\\n'], [' I want you to promise me. No more climbing.\\n'], [' Your Grace.\\n'], [' My queen.\\n']], 'BRAN': [[' Jon said he was a deserter.\\n'], [' Our way is the old way?\\n'], [' Is it true he saw the White Walkers?\\n'], [' So he was lying?\\n'], [' Where will they go? Their motherâ€™s dead.\\n'], [' NO!\\n'], [' Please, father!\\n'], [' What about you?\\n'], [' I saw the king! Heâ€™s got hundreds of people!\\n'], [' But heâ€™s coming right now! Down our road!\\n']], 'THEON': [[' Mountain lion?\\n'], [' Itâ€™s a freak.\\n'], [' Right. Give it here.\\n'], [' I take orders from your father, not you.\\n'], [' Think of all those southern girls he gets to stab with his right royal prick.\\n']], 'CERSEI': [[' What if Jon Arryn told someone?\\n'], [' My husband.\\n'], [' You should be the Hand of the king.\\n'], [' Weâ€™ve been riding for a month, my love. Surely the dead can wait.\\n'], [' Where is our brother? Go find the little beast.\\n']], 'JAIME': [[' But who would he tell?\\n'], [' If he told the king, both our heads would be skewered on the city gates by now. Whatever Jon Arryn knew or didnâ€™t know, it died with him. And Robert will choose a new Hand of the king, someone to do his job while heâ€™s off fucking boars and hunting whores. Or is it the other way around? And life will go on.\\n'], [' Thatâ€™s an honor I can do without. Their days are too long, their lives are too short.\\n']], 'ROBERT': [[' Youâ€™ve got fat.\\n'], [' Cat!\\n'], [' Nine years. Why havenâ€™t I seen you? Where the hell have you been?\\n'], [' Who have we here? You must be Robb.\\n'], [' Ooh. Show us your muscles. Youâ€™ll be a soldier.\\n'], [' Take me to your crypt. I want to pay my respects.\\n'], [' Ned.\\n'], [' One minute he was fine, and then â€¦ Burned right through him, whatever it was. I loved that man.\\n'], [' He never had to teach you much, but me â€¦ You remember me at 16? All I wanted to do was crack skulls and fuck girls. He showed me what was what.\\n']], 'ARYA': [[' Whereâ€™s the Imp?\\n'], [' Arya.\\n'], [' Thatâ€™s Jaime Lannister. The queenâ€™s twin brother.\\n'], [' Whereâ€™s the Imp?\\n']]}\n"
     ]
    }
   ],
   "source": [
    "from collections import defaultdict\n",
    "\n",
    "ndic = defaultdict(list)\n",
    "bucketkey = list()\n",
    "\n",
    "data = [l.split(\":\") for l in text]\n",
    "for d in data:\n",
    "    key = d.pop(0)\n",
    "    detail = d\n",
    "    \n",
    "    bucketkey.append(key)\n",
    "    if key in bucketkey:\n",
    "        ndic[key].append(detail)\n",
    "    else:\n",
    "        ndic[key] = detail\n",
    "\n",
    "print(dict(ndic))"
   ]
  },
  {
   "cell_type": "code",
   "execution_count": 5,
   "id": "8050b888",
   "metadata": {},
   "outputs": [
    {
     "name": "stdout",
     "output_type": "stream",
     "text": [
      "{'WILL': [[' Iâ€™ve never seen wildlings do a thing like this. Iâ€™ve never seen a thing like this, not ever in my life.\\n'], [' Close as any man would.\\n'], [' Whatever did it to them could do it to us. They even killed the children.\\n'], [' They were here.\\n']], 'WAYMAR ROYCE': [[' How close did you get?\\n']], 'GARED': [[' We should head back to the wall.\\n'], [' Our orders were to track the wildlings. We tracked them. They wonâ€™t trouble us no more.\\n'], [' See where they went.\\n']], 'ROYCE': [[' Do the dead frighten you?\\n'], [' You donâ€™t think heâ€™ll ask us how they died? Get back on your horse.\\n'], [' Itâ€™s a good thing weâ€™re not children. You want to run away south, run away. Of course, they will behead you as a deserter â€¦ If I donâ€™t catch you first. Get back on your horse. I wonâ€™t say it again.\\n'], [' Your dead men seem to have moved camp.\\n'], [' What is it?\\n']], 'JON': [[' Go on. Fatherâ€™s watching.\\n'], [' And your mother.\\n'], [' Donâ€™t think too much, Bran.\\n'], [' Father will know if you do.\\n'], [' You did well.\\n'], [' What is it?\\n'], [' Now there are five.\\n'], [' You want to hold it?\\n'], [' Lord Stark? There are five pups. One for each of the Stark children. The direwolf is the sigil of your House. They were meant to have them.\\n'], [' Iâ€™m not a Stark. Get on.\\n']], 'SEPTA MORDANE': [[' Fine work, as always. Well done.\\n'], [' I love the detail that youâ€™ve managed to get in this corners.\\n']], 'SANSA': [[' Thank you.\\n'], [' Will you shut up?\\n'], [' Would you please shut up.\\n']], 'NED': [[' And which one of you was a marksman at ten? Keep practicing, Bran. Go on.\\n'], [' Get the lads to saddle their horses.\\n'], [' He swore an oath, Cat.\\n'], [' Tell Bran heâ€™s coming, too.\\n'], [' He wonâ€™t be a boy forever. And winter is coming.\\n'], [' King of the Andals and the First Men â€¦\\n'], [' Lord of the Seven Kingdoms and protector of the realm, I, Eddard of the House Stark, Lord of Winterfell and Warden of the North, sentence you to die.\\n'], [' You understand why I did it?\\n'], [' But do you understand why I had to kill him?\\n'], [' The man who passes the sentence should swing the sword.\\n'], [' The White Walkers have been gone for thousands of years.\\n'], [' A madman sees what he sees.\\n'], [' There are no mountain lions in these woods.\\n'], [' Itâ€™s a direwolf.\\n'], [' Tough old beast.\\n'], [' Better a quick death. They wonâ€™t last without their mother.\\n'], [' Iâ€™m sorry, Bran.\\n'], [' You will train them yourselves. You will feed them yourselves. And if they die, you will bury them yourselves.\\n'], [' You have five northern children. Youâ€™re not an outsider.\\n'], [' Itâ€™s your gods with all the rules.\\n'], [' Tell me.\\n'], [' Your Grace.\\n'], [' Guarding the North for you, Your Grace. Winterfell is yours.\\n'], [' My queen.\\n'], [' Tell me about Jon Arryn.\\n'], [' We both did.\\n'], [' Aye.\\n']], 'ROBB': [[' Relax your bow arm.\\n'], [' Lad, go run back and get the rest.\\n'], [' There are no direwolves south of the Wall.\\n'], [' Put away your blade.\\n'], [' What is it?\\n'], [' I hear the prince is a right royal prick.\\n'], [' Go on, Tommy, shave him good. Heâ€™s never met a girl he likes better than his own hair.\\n']], 'CASSEL': [[' Lord Stark. My lady. A guardsman just rode in from the hills. Theyâ€™ve captured a deserter from the Nightâ€™s Watch.\\n'], [' The law is law, my lady.\\n'], [' They donâ€™t belong down here.\\n']], 'CATELYN': [[' Do you have to?\\n'], [' Ned. Ten is too young to see such things.\\n'], [' All these years and I still feel like an outsider when I come here.\\n'], [' I wonder if the old gods agree.\\n'], [' I am so sorry, my love.\\n'], [' Gods, but they grow fast.\\n'], [' How many times have I told you No climbing!\\n'], [' I want you to promise me. No more climbing.\\n'], [' Your Grace.\\n'], [' My queen.\\n']], 'BRAN': [[' Jon said he was a deserter.\\n'], [' Our way is the old way?\\n'], [' Is it true he saw the White Walkers?\\n'], [' So he was lying?\\n'], [' Where will they go? Their motherâ€™s dead.\\n'], [' NO!\\n'], [' Please, father!\\n'], [' What about you?\\n'], [' I saw the king! Heâ€™s got hundreds of people!\\n'], [' But heâ€™s coming right now! Down our road!\\n']], 'THEON': [[' Mountain lion?\\n'], [' Itâ€™s a freak.\\n'], [' Right. Give it here.\\n'], [' I take orders from your father, not you.\\n'], [' Think of all those southern girls he gets to stab with his right royal prick.\\n']], 'CERSEI': [[' What if Jon Arryn told someone?\\n'], [' My husband.\\n'], [' You should be the Hand of the king.\\n'], [' Weâ€™ve been riding for a month, my love. Surely the dead can wait.\\n'], [' Where is our brother? Go find the little beast.\\n']], 'JAIME': [[' But who would he tell?\\n'], [' If he told the king, both our heads would be skewered on the city gates by now. Whatever Jon Arryn knew or didnâ€™t know, it died with him. And Robert will choose a new Hand of the king, someone to do his job while heâ€™s off fucking boars and hunting whores. Or is it the other way around? And life will go on.\\n'], [' Thatâ€™s an honor I can do without. Their days are too long, their lives are too short.\\n']], 'ROBERT': [[' Youâ€™ve got fat.\\n'], [' Cat!\\n'], [' Nine years. Why havenâ€™t I seen you? Where the hell have you been?\\n'], [' Who have we here? You must be Robb.\\n'], [' Ooh. Show us your muscles. Youâ€™ll be a soldier.\\n'], [' Take me to your crypt. I want to pay my respects.\\n'], [' Ned.\\n'], [' One minute he was fine, and then â€¦ Burned right through him, whatever it was. I loved that man.\\n'], [' He never had to teach you much, but me â€¦ You remember me at 16? All I wanted to do was crack skulls and fuck girls. He showed me what was what.\\n']], 'ARYA': [[' Whereâ€™s the Imp?\\n'], [' Arya.\\n'], [' Thatâ€™s Jaime Lannister. The queenâ€™s twin brother.\\n'], [' Whereâ€™s the Imp?\\n']]}\n"
     ]
    }
   ],
   "source": [
    "wordDict = {key: value for key, value in dict(ndic).items() if key != '\\n'}\n",
    "\n",
    "print(wordDict)"
   ]
  },
  {
   "cell_type": "code",
   "execution_count": 6,
   "id": "960668cf",
   "metadata": {},
   "outputs": [],
   "source": [
    "for key, value in wordDict.items():\n",
    "    filename = str(key + '.txt')\n",
    "    with open(filename, \"w\") as f:\n",
    "        f.write(str(key)+\" :-\\n\"+str(wordDict[key]))"
   ]
  },
  {
   "cell_type": "code",
   "execution_count": 7,
   "id": "28c08d74",
   "metadata": {},
   "outputs": [],
   "source": [
    "import glob\n",
    "path = glob.glob(\"*.txt\")"
   ]
  },
  {
   "cell_type": "code",
   "execution_count": 8,
   "id": "111417f6",
   "metadata": {},
   "outputs": [],
   "source": [
    "for n in path:\n",
    "    with open(n, 'r+') as f:\n",
    "        t = f.read()\n",
    "\n",
    "        t = t.lower()\n",
    "        words = t.split()\n",
    "        words = [word.strip('.,!;()[]:-') for word in words]\n",
    "        words = [word.replace(\"'s\", '') for word in words]\n",
    "\n",
    "        unique = []\n",
    "        for word in words:\n",
    "            if word not in unique:\n",
    "                unique.append(word)\n",
    "\n",
    "        print('\\n\\nThe Unique words are :\\n',file=f)\n",
    "        for nw in unique:\n",
    "            print(nw,file=f)"
   ]
  }
 ],
 "metadata": {
  "kernelspec": {
   "display_name": "Python 3 (ipykernel)",
   "language": "python",
   "name": "python3"
  },
  "language_info": {
   "codemirror_mode": {
    "name": "ipython",
    "version": 3
   },
   "file_extension": ".py",
   "mimetype": "text/x-python",
   "name": "python",
   "nbconvert_exporter": "python",
   "pygments_lexer": "ipython3",
   "version": "3.10.5"
  }
 },
 "nbformat": 4,
 "nbformat_minor": 5
}
